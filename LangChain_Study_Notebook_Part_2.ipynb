{
 "cells": [
  {
   "cell_type": "markdown",
   "metadata": {},
   "source": [
    "# What is a Chain?\n",
    "Definition\n",
    "\n",
    "A Chain is a reusable component that encodes a sequence of calls to other components (LLMs, retrievers, other chains, etc.), exposing a simple interface to run that sequence. Chains are designed to be stateful (can include Memory), observable (callbacks), and composable (can be combined with other chains). As an API concept, there’s a base Chain class and many specific chain implementations built on top of it. \n",
    "LangChain\n",
    "\n",
    "How to use it — Python (minimal LCEL-style chain)"
   ]
  },
  {
   "cell_type": "code",
   "execution_count": 2,
   "metadata": {},
   "outputs": [
    {
     "name": "stdout",
     "output_type": "stream",
     "text": [
      "Here is a summary of the text in two bullets:\n",
      "\n",
      "• LangChain composes LLM (Large Language Model) calls by chaining together multiple components, including retrievers and tools.\n",
      "• This composition enables LangChain to leverage the strengths of each component to generate more accurate and informative responses.\n"
     ]
    }
   ],
   "source": [
    "# Modern “chain-like” pipeline using LCEL runnables (preferred in new LangChain):\n",
    "from langchain_core.prompts import ChatPromptTemplate\n",
    "from langchain_core.output_parsers import StrOutputParser\n",
    "from langchain_openai import ChatOpenAI  # swap with langchain_ollama.ChatOllama if you use Ollama\n",
    "from langchain_ollama import ChatOllama  # swap with langchain_openai.ChatOpenAI if you use OpenAI\n",
    "\n",
    "prompt = ChatPromptTemplate.from_messages([\n",
    "    (\"system\", \"You are a concise assistant.\"),\n",
    "    (\"human\", \"Summarize in two bullets:\\n{text}\")\n",
    "])\n",
    "llm = ChatOllama(model=\"llama3\", temperature=0)  \n",
    "# llm = ChatOpenAI(model=\"gpt-4o-mini\", temperature=0)\n",
    "parser = StrOutputParser()\n",
    "\n",
    "chain = prompt | llm | parser\n",
    "\n",
    "print(chain.invoke({\"text\": \"LangChain chains compose LLM calls with retrievers and tools.\"}))\n"
   ]
  },
  {
   "cell_type": "markdown",
   "metadata": {},
   "source": [
    "Summary\n",
    "\n",
    "Chains capture multi-step LLM workflows as a single callable unit. They make apps easier to reason about (deterministic steps), observe (callbacks), and extend (compose with other chains)"
   ]
  },
  {
   "cell_type": "markdown",
   "metadata": {},
   "source": [
    "# 2) How is it used & why is it useful?"
   ]
  },
  {
   "cell_type": "markdown",
   "metadata": {},
   "source": [
    "Definition\n",
    "\n",
    "Chains provide a single interface to orchestrate prompts, LLMs, retrievers, and post-processors, while supporting memory, callbacks/logging, and composition with other chains. This enables predictable, testable pipelines for tasks like summarization, QA over documents, SQL generation, or routing. \n",
    "LangChain\n",
    "\n",
    "How to use it — Python (observability, batching)"
   ]
  },
  {
   "cell_type": "code",
   "execution_count": 3,
   "metadata": {},
   "outputs": [
    {
     "name": "stdout",
     "output_type": "stream",
     "text": [
      "Here is a keyword list for \"RAG with LangChain\" in comma-separated format:\n",
      "\n",
      "RAG, LangChain, generative language models, text generation, AI-powered writing tools, content creation, natural language processing, NLP, machine learning, deep learning, transformer-based architectures, language modeling, text summarization, chatbots, conversational AI, dialogue systems.\n",
      "\n",
      "Let me know if you'd like me to add or modify any keywords!\n",
      "['Here is a keyword list for \"Chains\" in comma-separated format:\\n\\nchains, chain link, chain reaction, linked, connected, bound, tied, restraint, constraint, limitation, restriction, bondage, shackles, handcuffs, manacles, fetters, restraints, locks, keys, metal, links, rings, bars, bars of steel, prison, captivity, confinement.', 'Here is a list of keywords related to routers, comma-separated:\\n\\nNetwork Router, Wireless Router, Router Configuration, Router Settings, Router Security, Firewall, Network Switch, Ethernet, Wi-Fi, Internet Connection, Home Networking, Business Networking, Router Reviews, Best Router, Router Comparison, Router Features, Router Speed, Router Range, Router Compatibility.', 'Here is a keyword list for \"Retrievers\" in comma-separated format:\\n\\nLabrador, Golden, Chesapeake Bay, Retriever, Dog, Breed, Hunting, Family, Friendly, Loyal, Intelligent, Energetic, Active, Water-loving, Gun-dog, Companion, Pet']\n"
     ]
    }
   ],
   "source": [
    "from langchain_core.prompts import ChatPromptTemplate\n",
    "from langchain_core.output_parsers import StrOutputParser\n",
    "\n",
    "prompt = ChatPromptTemplate.from_template(\n",
    "    \"Write a keyword list (comma-separated) for: {topic}\"\n",
    ")\n",
    "chain = prompt | llm | StrOutputParser()\n",
    "\n",
    "# Add trace metadata for observability (picked up by LangSmith if enabled)\n",
    "observed = chain.with_config(run_name=\"keywords_chain\", tags=[\"study-notes\", \"chains\"])\n",
    "\n",
    "# Single\n",
    "print(observed.invoke({\"topic\": \"RAG with LangChain\"}))\n",
    "\n",
    "# Batch\n",
    "inputs = [{\"topic\": t} for t in [\"Chains\", \"Routers\", \"Retrievers\"]]\n",
    "print(observed.batch(inputs))\n"
   ]
  },
  {
   "cell_type": "markdown",
   "metadata": {},
   "source": [
    "Summary\n",
    "\n",
    "Chains are useful because they unify multiple operations behind a clean interface, support production needs (state, callbacks), and encourage composition/reuse—resulting in clearer code and simpler maintenance."
   ]
  },
  {
   "cell_type": "markdown",
   "metadata": {},
   "source": []
  }
 ],
 "metadata": {
  "kernelspec": {
   "display_name": ".venv",
   "language": "python",
   "name": "python3"
  },
  "language_info": {
   "codemirror_mode": {
    "name": "ipython",
    "version": 3
   },
   "file_extension": ".py",
   "mimetype": "text/x-python",
   "name": "python",
   "nbconvert_exporter": "python",
   "pygments_lexer": "ipython3",
   "version": "3.13.3"
  }
 },
 "nbformat": 4,
 "nbformat_minor": 2
}
